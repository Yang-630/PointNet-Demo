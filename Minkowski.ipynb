{
  "cells": [
    {
      "cell_type": "code",
      "execution_count": null,
      "metadata": {
        "id": "ilrFYS18dPwo"
      },
      "outputs": [],
      "source": [
        "from google.colab import drive\n",
        "drive.mount('/content/gdrive')\n",
        "# Copy the modified Code to the content\n",
        "!cp -r /content/gdrive/MyDrive/MinkowskiEngine /content/\n",
        "# Install the required packages\n",
        "!pip install open3d\n",
        "!pip install MinkowskiEngine\n",
        "%cd MinkowskiEngine"
      ]
    },
    {
      "cell_type": "code",
      "execution_count": 8,
      "metadata": {
        "colab": {
          "base_uri": "https://localhost:8080/"
        },
        "id": "DfNUwEe037i1",
        "outputId": "3443420b-7b12-4088-f3ee-b7531472dfc8"
      },
      "outputs": [
        {
          "output_type": "stream",
          "name": "stdout",
          "text": [
            "INFO - 2022-02-05 18:19:28,394 - utils - NumExpr defaulting to 2 threads.\n",
            "Using cuda\n",
            "\u001b[1;33m[Open3D WARNING] GLFW Error: X11: The DISPLAY environment variable is missing\u001b[0;m\n",
            "\u001b[1;33m[Open3D WARNING] Failed to initialize GLFW\u001b[0;m\n",
            "\u001b[1;33m[Open3D WARNING] [DrawGeometries] Failed creating OpenGL window.\u001b[0;m\n"
          ]
        }
      ],
      "source": [
        "# This command first downloads a smaple example file named 1.ply in the root of MinkowskiEngine directory\n",
        "# And then runs the code on it and saves the output as pred.ply file in the same place\n",
        "# For trying the code on new data you can just remove the 1.ply file and add the new file and then rename\n",
        "# it to 1.ply\n",
        "!python -m examples.indoor"
      ]
    }
  ],
  "metadata": {
    "accelerator": "GPU",
    "colab": {
      "name": "Minkowski",
      "provenance": [],
      "collapsed_sections": []
    },
    "kernelspec": {
      "display_name": "Python 3",
      "name": "python3"
    },
    "language_info": {
      "name": "python"
    }
  },
  "nbformat": 4,
  "nbformat_minor": 0
}